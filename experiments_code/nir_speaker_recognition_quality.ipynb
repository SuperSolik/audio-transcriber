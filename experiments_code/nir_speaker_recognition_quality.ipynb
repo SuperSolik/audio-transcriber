{
 "cells": [
  {
   "cell_type": "code",
   "execution_count": 9,
   "metadata": {},
   "outputs": [],
   "source": [
    "import os\n",
    "import json\n",
    "from pathlib import Path\n",
    "import numpy as np\n",
    "import matplotlib.pyplot as plt"
   ]
  },
  {
   "cell_type": "code",
   "execution_count": 13,
   "metadata": {},
   "outputs": [],
   "source": [
    "from typing import Any, Callable, Iterable, Optional\n",
    "\n",
    "\n",
    "def merge_iterable(\n",
    "    iterable: Iterable[Any],\n",
    "    is_close: Callable[[Any, Any], bool],\n",
    "    merge: Callable[[Any, Any], Any],\n",
    "    apply: Optional[Callable[[Any], Any]] = None,\n",
    ") -> Iterable[Any]:\n",
    "    \"\"\"Merges elements in sorted iterable\"\"\"\n",
    "    merged = []\n",
    "    for el in iterable:\n",
    "        if apply is not None:\n",
    "            el = apply(el)\n",
    "        # if the list of merged elements is empty or if the current\n",
    "        # element is not close with the previous, simply append it.\n",
    "        if not merged or not is_close(merged[-1], el):\n",
    "            merged.append(el)\n",
    "        else:\n",
    "            # otherwise, elements can be merged\n",
    "            merged[-1] = merge(merged[-1], el)\n",
    "\n",
    "    return merged\n",
    "\n",
    "\n",
    "def records_close(a: tuple, b: tuple):\n",
    "    return a[2] == b[2]\n",
    "\n",
    "def records_merge(a: dict, b: dict):\n",
    "    return (min(a[0], b[0]), max(a[1], b[1]), a[2])\n",
    "\n",
    "\n",
    "def convert_vosk_result_to_speaker_intervals(path: str, segments_key: str = None) -> None:\n",
    "    path_ = Path(os.path.abspath(path))\n",
    "    name = path_.stem\n",
    "    file_dir = path_.parent\n",
    "\n",
    "    with open(str(path_), 'r') as f:\n",
    "        data = json.load(f)\n",
    "\n",
    "    if segments_key in data:\n",
    "        segments = data[segments_key]\n",
    "    else:\n",
    "        segments = data\n",
    "    \n",
    "    intervals = [(x[\"start\"], x[\"end\"], x[\"speaker\"]) for x in segments]\n",
    "\n",
    "    # merged_intervals_by_speaker = merge_iterable(\n",
    "    #     intervals, records_close, records_merge\n",
    "    # )\n",
    "\n",
    "    with open(file_dir / f'{name}_intervals.json', 'w') as f:\n",
    "        json.dump(intervals, f)"
   ]
  },
  {
   "cell_type": "code",
   "execution_count": 3,
   "metadata": {},
   "outputs": [],
   "source": [
    "convert_vosk_result_to_speaker_intervals(\"./experiments/test1_speaker_comp/test_1_vosk_result_with_speakers.json\")\n",
    "convert_vosk_result_to_speaker_intervals(\"./experiments/test2_speaker_comp/test_2_vosk_result_with_speakers.json\")"
   ]
  },
  {
   "cell_type": "code",
   "execution_count": 4,
   "metadata": {},
   "outputs": [],
   "source": [
    "def convert_speakers_json_to_rttm_like_txt(path: str) -> None:\n",
    "    path_ = Path(os.path.abspath(path))\n",
    "    name = path_.stem\n",
    "    file_dir = path_.parent\n",
    "\n",
    "    with open(str(path_), 'r') as f:\n",
    "        data = json.load(f)\n",
    "\n",
    "    lines = [\n",
    "        f\"{start} {end} {speaker}\\n\" for (start, end, speaker) in data\n",
    "    ]\n",
    "    \n",
    "    # intervals = [(x[\"start\"], x[\"end\"], x[\"speaker\"]) for x in segments]\n",
    "\n",
    "    # merged_intervals_by_speaker = merge_iterable(\n",
    "    #     intervals, records_close, records_merge\n",
    "    # )\n",
    "\n",
    "    with open(file_dir / f'{name}.txt', 'w') as f:\n",
    "        f.writelines(lines)"
   ]
  },
  {
   "cell_type": "code",
   "execution_count": 80,
   "metadata": {},
   "outputs": [],
   "source": [
    "convert_speakers_json_to_rttm_like_txt(\"./experiments/test1_speaker_comp/test_1_pyannote_spk_intervals.json\")\n",
    "convert_speakers_json_to_rttm_like_txt(\"./experiments/test1_speaker_comp/test_1_vosk_spk_intervals.json\")\n",
    "convert_speakers_json_to_rttm_like_txt(\"./experiments/test1_speaker_comp/truth.json\")\n",
    "\n",
    "convert_speakers_json_to_rttm_like_txt(\"./experiments/test2_speaker_comp/test_2_pyannote_results.json\")\n",
    "convert_speakers_json_to_rttm_like_txt(\"./experiments/test2_speaker_comp/test_2_vosk_result_with_speakers_intervals.json\")\n",
    "convert_speakers_json_to_rttm_like_txt(\"./experiments/test2_speaker_comp/truth.json\")\n",
    "\n"
   ]
  },
  {
   "cell_type": "code",
   "execution_count": 53,
   "metadata": {},
   "outputs": [],
   "source": [
    "speaker_mapping = {\n",
    "    \"speaker1\": \"speaker1\",\n",
    "    \"speaker2\": \"speaker2\",\n",
    "    \"speaker00\": \"speaker1\",\n",
    "    \"speaker01\": \"speaker2\",\n",
    "}\n",
    "\n",
    "speaker_colors = {\n",
    "    \"speaker1\": \"r\",\n",
    "    \"speaker2\": \"g\",\n",
    "    \"unknown\": \"b\"\n",
    "}\n",
    "\n",
    "convert_speaker = lambda x: speaker_mapping.get(x.lower().replace(\"-\", \"\").replace(\"_\", \"\"), \"unknown\")\n"
   ]
  },
  {
   "cell_type": "code",
   "execution_count": 76,
   "metadata": {},
   "outputs": [],
   "source": [
    "import matplotlib.patches as mpatches\n",
    "\n",
    "\n",
    "#Plot function\n",
    "def timelines(y, xstart, xstop, colors):\n",
    "    \"\"\"Plot timelines at y from xstart to xstop with given colors.\"\"\"   \n",
    "    plt.hlines(y, xstart, xstop, colors, lw=3)\n",
    "    plt.vlines(xstart, y+0.03, y-0.03, colors, lw=1)\n",
    "    plt.vlines(xstop, y+0.03, y-0.03, colors, lw=1)\n",
    "\n",
    "def plot_intervals(\n",
    "    files: list[str], \n",
    "    captions: list[str], \n",
    "    start_x: float, \n",
    "    end_x: float,\n",
    "    figpath: str\n",
    ") -> None:\n",
    "    #Get unique captions and there indices and the inverse mapping\n",
    "    captions, unique_idx, caption_inv = np.unique(captions, 1, 1)\n",
    "\n",
    "    #Build y values from the number of unique captions.\n",
    "    ys = (caption_inv + 1) / float(len(captions) + 1)\n",
    "\n",
    "    for y, path in zip(ys, files):\n",
    "        data = np.genfromtxt(\n",
    "            path, \n",
    "            converters={2: convert_speaker},\n",
    "            encoding=\"utf-8\",\n",
    "            names=['start', 'end', 'speaker'], dtype=None\n",
    "        )\n",
    "        speaker, start, end = data['speaker'], data['start'], data['end']\n",
    "\n",
    "        timelines(np.asarray([y]*len(data)), start, end, np.asarray([speaker_colors[s] for s in speaker]))\n",
    "\n",
    "    plt.yticks(ys[unique_idx], captions)\n",
    "    plt.ylim(0, 1)\n",
    "    plt.xlim(start_x, end_x)\n",
    "    plt.legend(handles=[mpatches.Patch(color=speaker_colors[speaker], label=speaker) for speaker in speaker_colors])\n",
    "    plt.xlabel('time (s)')\n",
    "    plt.savefig(figpath, format='png')\n",
    "    plt.show()"
   ]
  },
  {
   "cell_type": "code",
   "execution_count": 78,
   "metadata": {},
   "outputs": [
    {
     "data": {
      "image/png": "[encoded data removed]",
      "text/plain": [
       "<Figure size 1000x600 with 1 Axes>"
      ]
     },
     "metadata": {},
     "output_type": "display_data"
    }
   ],
   "source": [
    "plt.figure(figsize=(10,6))\n",
    "\n",
    "\n",
    "plot_intervals(\n",
    "    files=[\n",
    "        \"./experiments/test1_speaker_comp/truth.txt\",\n",
    "        \"./experiments/test1_speaker_comp/test_1_vosk_spk_intervals.txt\",\n",
    "        \"./experiments/test1_speaker_comp/test_1_pyannote_spk_intervals.txt\",\n",
    "    ],\n",
    "    captions=[\n",
    "        \"groundtruth\",\n",
    "        \"vosk\",\n",
    "        \"pyannote\"\n",
    "    ],\n",
    "    start_x=0,\n",
    "    end_x=73.15,\n",
    "    figpath=\"./experiments/test1_speaker_comp/plot.png\"\n",
    ")"
   ]
  },
  {
   "cell_type": "code",
   "execution_count": 81,
   "metadata": {},
   "outputs": [
    {
     "data": {
      "image/png": "[encoded data removed]",
      "text/plain": [
       "<Figure size 1000x600 with 1 Axes>"
      ]
     },
     "metadata": {},
     "output_type": "display_data"
    }
   ],
   "source": [
    "plt.figure(figsize=(10,6))\n",
    "\n",
    "\n",
    "plot_intervals(\n",
    "    files=[\n",
    "        \"./experiments/test2_speaker_comp/truth.txt\",\n",
    "        \"./experiments/test2_speaker_comp/test_2_vosk_result_with_speakers_intervals.txt\",\n",
    "        \"./experiments/test2_speaker_comp/test_2_pyannote_results.txt\",\n",
    "    ],\n",
    "    captions=[\n",
    "        \"groundtruth\",\n",
    "        \"vosk\",\n",
    "        \"pyannote\"\n",
    "    ],\n",
    "    start_x=0,\n",
    "    end_x=65,\n",
    "    figpath=\"./experiments/test2_speaker_comp/plot.png\"\n",
    ")"
   ]
  },
  {
   "cell_type": "code",
   "execution_count": 85,
   "metadata": {},
   "outputs": [],
   "source": [
    "from pyannote.metrics.diarization import DiarizationErrorRate\n",
    "from pyannote.core.annotation import Annotation, Segment\n",
    "\n",
    "metric = DiarizationErrorRate()"
   ]
  },
  {
   "cell_type": "code",
   "execution_count": 84,
   "metadata": {},
   "outputs": [],
   "source": [
    "def get_annotation_from_json(path) -> Annotation:\n",
    "    path_ = Path(os.path.abspath(path))\n",
    "    # name = path_.stem\n",
    "    # file_dir = path_.parent\n",
    "\n",
    "    with open(str(path_), 'r') as f:\n",
    "        data = json.load(f)\n",
    "    \n",
    "    annotation = Annotation()\n",
    "    for (start, end, speaker) in data:\n",
    "        annotation[Segment(start, end)] = speaker\n",
    "\n",
    "    return annotation\n"
   ]
  },
  {
   "cell_type": "code",
   "execution_count": 88,
   "metadata": {},
   "outputs": [
    {
     "name": "stdout",
     "output_type": "stream",
     "text": [
      "Experiment 1 (test1)\n",
      "vosk diarization error rate = 16.2%\n",
      "pyannote diarization error rate = 8.8%\n"
     ]
    },
    {
     "name": "stderr",
     "output_type": "stream",
     "text": [
      "/Users/sergeipetrov/Library/Caches/pypoetry/virtualenvs/test-xYtUzyB7-py3.10/lib/python3.10/site-packages/pyannote/metrics/utils.py:200: UserWarning: 'uem' was approximated by the union of 'reference' and 'hypothesis' extents.\n",
      "  warnings.warn(\n"
     ]
    }
   ],
   "source": [
    "# experiment 1\n",
    "\n",
    "truth_annotation = get_annotation_from_json(\"./experiments/test1_speaker_comp/truth.json\")\n",
    "vosk_annotation = get_annotation_from_json(\"./experiments/test1_speaker_comp/test_1_vosk_spk_intervals.json\")\n",
    "pyannote_annotation = get_annotation_from_json(\"./experiments/test1_speaker_comp/test_1_pyannote_spk_intervals.json\")\n",
    "\n",
    "vosk_der = metric(truth_annotation, vosk_annotation)\n",
    "pyannote_der = metric(truth_annotation, pyannote_annotation)\n",
    "\n",
    "print(\"Experiment 1 (test1)\")\n",
    "print(f'vosk diarization error rate = {100 * vosk_der:.1f}%')\n",
    "print(f'pyannote diarization error rate = {100 * pyannote_der:.1f}%')"
   ]
  },
  {
   "cell_type": "code",
   "execution_count": 89,
   "metadata": {},
   "outputs": [
    {
     "name": "stdout",
     "output_type": "stream",
     "text": [
      "Experiment 2 (test2)\n",
      "vosk diarization error rate = 23.5%\n",
      "pyannote diarization error rate = 12.1%\n"
     ]
    }
   ],
   "source": [
    "# experiment 2\n",
    "\n",
    "truth_annotation = get_annotation_from_json(\"./experiments/test2_speaker_comp/truth.json\")\n",
    "vosk_annotation = get_annotation_from_json(\"./experiments/test2_speaker_comp/test_2_vosk_result_with_speakers_intervals.json\")\n",
    "pyannote_annotation = get_annotation_from_json(\"./experiments/test2_speaker_comp/test_2_pyannote_results.json\")\n",
    "\n",
    "vosk_der = metric(truth_annotation, vosk_annotation)\n",
    "pyannote_der = metric(truth_annotation, pyannote_annotation)\n",
    "\n",
    "print(\"Experiment 2 (test2)\")\n",
    "print(f'vosk diarization error rate = {100 * vosk_der:.1f}%')\n",
    "print(f'pyannote diarization error rate = {100 * pyannote_der:.1f}%')"
   ]
  }
 ],
 "metadata": {
  "kernelspec": {
   "display_name": "test-xYtUzyB7-py3.10",
   "language": "python",
   "name": "python3"
  },
  "language_info": {
   "codemirror_mode": {
    "name": "ipython",
    "version": 3
   },
   "file_extension": ".py",
   "mimetype": "text/x-python",
   "name": "python",
   "nbconvert_exporter": "python",
   "pygments_lexer": "ipython3",
   "version": "3.10.1"
  },
  "orig_nbformat": 4
 },
 "nbformat": 4,
 "nbformat_minor": 2
}
